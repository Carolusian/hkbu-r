{
 "cells": [
  {
   "cell_type": "code",
   "execution_count": 4,
   "metadata": {
    "collapsed": false
   },
   "outputs": [
    {
     "data": {
      "text/plain": [
       "(array([ 16.18583739,   8.28025478,   9.21693518,  27.91307606,\n",
       "         30.49831398,   3.48445111,   1.57362308,   0.37467216,\n",
       "          0.26227051,   0.52454103]),\n",
       " array([   0,  100,  200,  300,  400,  500,  600,  700,  800,  900, 1000]),\n",
       " <a list of 10 Patch objects>)"
      ]
     },
     "execution_count": 4,
     "metadata": {},
     "output_type": "execute_result"
    },
    {
     "data": {
      "image/png": "[encoded data removed]",
      "text/plain": [
       "<matplotlib.figure.Figure at 0x1048cee80>"
      ]
     },
     "metadata": {},
     "output_type": "display_data"
    }
   ],
   "source": [
    "%matplotlib inline\n",
    "\n",
    "import matplotlib.pyplot as plt\n",
    "import pandas as pd\n",
    "import numpy as np\n",
    "\n",
    "df = pd.read_csv('201702.csv', names=['size']) / 1024\n",
    "weights = np.ones_like(df['size']) / len(df['size']) * 100\n",
    "plt.hist(df['size'], weights = weights, bins=list(range(0, 1001, 100)))"
   ]
  },
  {
   "cell_type": "code",
   "execution_count": 19,
   "metadata": {
    "collapsed": false
   },
   "outputs": [
    {
     "data": {
      "text/plain": [
       "0        391.274414\n",
       "1         93.095703\n",
       "2        337.442383\n",
       "3        484.263672\n",
       "4        382.059570\n",
       "5        368.750000\n",
       "6        466.107422\n",
       "7        263.805664\n",
       "8        283.403320\n",
       "9        399.855469\n",
       "10       384.188477\n",
       "11       651.749023\n",
       "12       398.753906\n",
       "13       722.745117\n",
       "14       445.801758\n",
       "15       230.851562\n",
       "16       484.420898\n",
       "17       369.879883\n",
       "18       400.607422\n",
       "19       809.494141\n",
       "20       319.950195\n",
       "21        71.391602\n",
       "22       208.666016\n",
       "23       386.737305\n",
       "24       390.234375\n",
       "25       440.822266\n",
       "26       414.845703\n",
       "27       453.480469\n",
       "28       450.039062\n",
       "29       426.166992\n",
       "           ...     \n",
       "2639     105.997070\n",
       "2640     394.583984\n",
       "2641    1349.607422\n",
       "2642     370.095703\n",
       "2643     439.402344\n",
       "2644     458.953125\n",
       "2645      72.461914\n",
       "2646      67.254883\n",
       "2647     286.570312\n",
       "2648     460.066406\n",
       "2649     210.389648\n",
       "2650     379.053711\n",
       "2651      99.318359\n",
       "2652     241.664062\n",
       "2653     344.061523\n",
       "2654     438.582031\n",
       "2655     295.358398\n",
       "2656     356.398438\n",
       "2657     450.462891\n",
       "2658     380.818359\n",
       "2659     345.987305\n",
       "2660     364.858398\n",
       "2661     125.112305\n",
       "2662     469.265625\n",
       "2663     489.883789\n",
       "2664     428.598633\n",
       "2665     449.243164\n",
       "2666     419.488281\n",
       "2667     264.535156\n",
       "2668     470.571289\n",
       "Name: size, dtype: float64"
      ]
     },
     "execution_count": 19,
     "metadata": {},
     "output_type": "execute_result"
    }
   ],
   "source": [
    "df['size'] / 1024"
   ]
  }
 ],
 "metadata": {
  "kernelspec": {
   "display_name": "Python 3",
   "language": "python",
   "name": "python3"
  },
  "language_info": {
   "codemirror_mode": {
    "name": "ipython",
    "version": 3
   },
   "file_extension": ".py",
   "mimetype": "text/x-python",
   "name": "python",
   "nbconvert_exporter": "python",
   "pygments_lexer": "ipython3",
   "version": "3.5.2"
  }
 },
 "nbformat": 4,
 "nbformat_minor": 2
}
